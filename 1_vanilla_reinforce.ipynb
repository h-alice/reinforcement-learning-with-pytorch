{
 "cells": [
  {
   "cell_type": "markdown",
   "metadata": {},
   "source": [
    "# Vanilla REINFORCE Algorithm Implementation\n",
    "In the family of policy gradient methods, **REINFORCE** is one of the simplest and oldest algorithms. It introducing the basic concept of updating policies using gradient ascent on the expected reward.\n",
    "\n",
    "REINFORCE is a Monte Carlo policy gradient method. It updates the policy parameters by taking steps proportional to the gradient of the expected return.  \n",
    "In this notebook, we will implement the vanilla REINFORCE algorithm and apply it to a grid environment which the goal is moving from a random starting point to the desired goal position.\n",
    "\n",
    "## References\n",
    "- Simple Statistical Gradient-Following Algorithms for Connectionist Reinforcement Learning, [https://www-anw.cs.umass.edu/~barto/courses/cs687/williams92simple.pdf](https://www-anw.cs.umass.edu/~barto/courses/cs687/williams92simple.pdf), Ronald J. Williams, 1992."
   ]
  },
  {
   "cell_type": "code",
   "execution_count": 1,
   "metadata": {},
   "outputs": [
    {
     "name": "stderr",
     "output_type": "stream",
     "text": [
      "/Users/h-alice/Documents/Projects/rl-test/.venv/lib/python3.12/site-packages/ignite/handlers/checkpoint.py:16: DeprecationWarning: `TorchScript` support for functional optimizers is deprecated and will be removed in a future PyTorch release. Consider using the `torch.compile` optimizer instead.\n",
      "  from torch.distributed.optim import ZeroRedundancyOptimizer\n"
     ]
    }
   ],
   "source": [
    "import torch\n",
    "import torch.nn as nn\n",
    "from torch import nn, optim\n",
    "from ignite.engine import Engine, Events, create_supervised_trainer, create_supervised_evaluator\n",
    "from ignite.metrics import Accuracy, Loss\n",
    "from ignite.handlers import ModelCheckpoint\n",
    "from ignite.contrib.handlers import TensorboardLogger, global_step_from_engine\n",
    "import numpy as np\n",
    "from torchvision import transforms\n",
    "import gymnasium\n",
    "from PIL import Image\n",
    "\n",
    "from IPython import display\n",
    "from typing import List, Tuple, NamedTuple\n",
    "\n",
    "from commons import *\n",
    "from rl_envs import SimpleGridEnv"
   ]
  },
  {
   "cell_type": "markdown",
   "metadata": {},
   "source": [
    "## Initialization\n",
    "\n",
    "This notebook is run and tested with Python 3.12 on a MacBook M2 Pro with MPS acceleration enabled."
   ]
  },
  {
   "cell_type": "code",
   "execution_count": 2,
   "metadata": {},
   "outputs": [],
   "source": [
    "device = \"mps\" # Hello, MacBooks ;)"
   ]
  },
  {
   "cell_type": "markdown",
   "metadata": {},
   "source": [
    "## Environment\n",
    "The environment is a simple grid environment, which objective is to reach the goal block. The agent can move in four directions: up, down, left, and right.\n",
    "\n",
    "The observation space is a vestor $v\\in\\Reals^4$, where $v = [x, y, x_{goal}, y_{goal}]$.\n",
    "\n",
    "The action space is a probability distribution over the four directions $\\mathcal{A} = \\{0, 1, 2, 3\\}$, which 0 indicates up, 1 indicates down, 2 indicates left, and 3 indicates right, respectively.\n",
    "\n",
    "We also implemented a simple rendering function to visualize current state and the agent's action.  \n",
    "In the rendered state, The red block indicates the agent, the green block indicates the goal, and the dark blue block indicates the track of the agent.\n"
   ]
  },
  {
   "cell_type": "code",
   "execution_count": 3,
   "metadata": {},
   "outputs": [
    {
     "name": "stdout",
     "output_type": "stream",
     "text": [
      "(array([2, 0, 2, 1]), -0.1, False, {'history': [array([2, 1])]})\n",
      "(array([3, 0, 2, 1]), -0.1, False, {'history': [array([2, 1]), array([2, 0])]})\n",
      "(array([3, 1, 2, 1]), -0.1, False, {'history': [array([2, 1]), array([2, 0]), array([3, 0])]})\n",
      "(array([3, 2, 2, 1]), -0.1, False, {'history': [array([2, 1]), array([2, 0]), array([3, 0]), array([3, 1])]})\n",
      "(array([3, 1, 2, 1]), -0.1, False, {'history': [array([2, 1]), array([2, 0]), array([3, 0]), array([3, 1]), array([3, 2])]})\n"
     ]
    },
    {
     "data": {
      "image/jpeg": "[encoded data removed]",
      "image/png": "[encoded data removed]",
      "text/plain": [
       "<PIL.Image.Image image mode=RGB size=260x52>"
      ]
     },
     "metadata": {},
     "output_type": "display_data"
    }
   ],
   "source": [
    "# Simple rollout\n",
    "gr = SimpleGridEnv(5)\n",
    "_images = []\n",
    "gr.reset()\n",
    "for _ in range(5):\n",
    "    _images.append(gr.render(pixel_size=10, with_history=True))\n",
    "    print(obs := gr.step(np.random.randint(0, 4)))\n",
    "    if obs[2]:\n",
    "        _images.append(gr.render(pixel_size=10, with_history=True))\n",
    "        break\n",
    "\n",
    "display.display(Image.fromarray(stack_images(_images)))"
   ]
  },
  {
   "cell_type": "markdown",
   "metadata": {},
   "source": [
    "## Trajectory\n",
    "A **trajectory entry $\\tau$** stores:\n",
    "- observation aka state $s_t\\in\\mathcal{S}$\n",
    "- action $a_t\\in\\mathcal{A}$\n",
    "- reward $r_t\\in\\Reals$\n",
    "- done flag $d_t\\in\\{0,1\\}$\n",
    "- log probability of the action $\\log\\pi{_\\theta}(a_t|s_t)$\n",
    "\n",
    "And a **trajectory** is a sequence of trajectory entries."
   ]
  },
  {
   "cell_type": "code",
   "execution_count": 4,
   "metadata": {},
   "outputs": [],
   "source": [
    "class TrajectoryEntry(NamedTuple):\n",
    "    observe: np.ndarray\n",
    "    action: int\n",
    "    reward: float\n",
    "    done: bool\n",
    "    log_prob: torch.Tensor\n",
    "\n",
    "type Trajectory = List[TrajectoryEntry]"
   ]
  },
  {
   "cell_type": "markdown",
   "metadata": {},
   "source": [
    "Trajectory generation part is yet simple, which follows the steps:\n",
    "1. Reset the environment and get the initial observation.\n",
    "2. Get the action distribution from the policy network, also storge the log probability for optimization.\n",
    "3. Take an action and get the next observation, reward, and done flag.\n",
    "4. Store the trajectory entry and repeat the steps 2-3 until the done flag is set or the maximum steps are reached."
   ]
  },
  {
   "cell_type": "code",
   "execution_count": 5,
   "metadata": {},
   "outputs": [],
   "source": [
    "def generate_trajectory(env: gymnasium.Env, policy: torch.nn.Module, /, max_episode_length=100):\n",
    "    obs = env.reset()\n",
    "    done = False\n",
    "    ep_counter = 0\n",
    "\n",
    "    trajectory: Trajectory = []\n",
    "\n",
    "    while not done:\n",
    "        ep_counter += 1\n",
    "        action_prob = nn.Softmax(dim=-1)(policy(torch.tensor(obs).float().to(device)))\n",
    "        action = np.random.choice(np.arange(4), p=action_prob.detach().to(\"cpu\").numpy())\n",
    "        obs, reward, done, _ = env.step(action)\n",
    "        trajectory.append(TrajectoryEntry(observe=obs, action=action, reward=reward, done=done, log_prob=torch.log(action_prob[action])))\n",
    "\n",
    "        if ep_counter >= max_episode_length:\n",
    "            break\n",
    "\n",
    "    return trajectory"
   ]
  },
  {
   "cell_type": "markdown",
   "metadata": {},
   "source": [
    "# Policy Network\n",
    "The policy network is a simple feedforward neural network with two hidden layers. The input is the observation vector $v$ and the output is a probability distribution over the action space $\\mathcal{A}$.\n",
    "\n",
    "We use SELU activation function for the hidden layers to achieve self-normalization manner."
   ]
  },
  {
   "cell_type": "code",
   "execution_count": 6,
   "metadata": {},
   "outputs": [],
   "source": [
    "class Policy(nn.Module):\n",
    "    def __init__(self, activation=nn.SELU()):\n",
    "        super().__init__()\n",
    "        self.activation = activation\n",
    "        self.fc = nn.Linear(4, 128)\n",
    "        self.fc2 = nn.Linear(128, 4)\n",
    "\n",
    "    def forward(self, x):\n",
    "        x = self.fc(x)\n",
    "        x = self.activation(x)\n",
    "        x = self.fc2(x)\n",
    "        return x"
   ]
  },
  {
   "cell_type": "markdown",
   "metadata": {},
   "source": [
    "# Optimization with REINFORCE\n",
    "\n",
    "Here comes the final part, the optimization with REINFORCE algorithm.\n",
    "\n",
    "We basicly follows the definition of the REINFORCE algorithm:\n",
    "\n",
    "$$\n",
    "\\theta_{new} \\leftarrow \\theta_{old} + \\alpha\\nabla{\\pi{_\\theta}{\\ln{(a|s)}}}\n",
    "$$\n",
    "\n",
    "Which there's a ittle difference, we accumulate the gradients and apply the update after the trajectory is done."
   ]
  },
  {
   "cell_type": "code",
   "execution_count": 7,
   "metadata": {},
   "outputs": [],
   "source": [
    "p = Policy().to(device) # Policy network\n",
    "optimizer = optim.Adam(p.parameters(), lr=0.0001)  # Optimizer, we've tried lr=0.001 and it failed miserably."
   ]
  },
  {
   "cell_type": "code",
   "execution_count": 8,
   "metadata": {},
   "outputs": [
    {
     "name": "stdout",
     "output_type": "stream",
     "text": [
      "Current reward: 9.21, Current episode length: 5         \r"
     ]
    }
   ],
   "source": [
    "gr = SimpleGridEnv(5)\n",
    "for _ in range(10000): # 10000 epochs.\n",
    "    p.train()\n",
    "    p.zero_grad()\n",
    "    reward_gamma = 0.99\n",
    "    cumulated_reward = 0\n",
    "    traj = generate_trajectory(gr, p, max_episode_length=100)\n",
    "    for index, step in enumerate(traj):\n",
    "        cumulated_reward = cumulated_reward + step.reward * (reward_gamma ** index)\n",
    "        objective = step.log_prob * cumulated_reward\n",
    "        objective *= -1 # Optimizing -1 * reward with gradient descent = optimizing reward with gradient ascent\n",
    "        objective.backward(retain_graph=True)\n",
    "    \n",
    "    optimizer.step()\n",
    "    print(f'Current reward: {cumulated_reward:.2f}, Current episode length: {len(traj)}      ', sep=' ', end='\\r') # We put extra whitespaces to overwrite the previous line.\n"
   ]
  },
  {
   "cell_type": "code",
   "execution_count": 11,
   "metadata": {},
   "outputs": [
    {
     "data": {
      "image/jpeg": "[encoded data removed]",
      "image/png": "[encoded data removed]",
      "text/plain": [
       "<PIL.Image.Image image mode=RGB size=530x106>"
      ]
     },
     "metadata": {},
     "output_type": "display_data"
    }
   ],
   "source": [
    "p.eval()\n",
    "gr = SimpleGridEnv(5)\n",
    "done = False\n",
    "images = []\n",
    "obs = gr.reset()\n",
    "\n",
    "images.append(gr.render(pixel_size=20, with_history=True)) # Initial state\n",
    "while not done:\n",
    "    action_prob = nn.Softmax(dim=-1)(p(torch.tensor(obs).float().to(device)))\n",
    "    action = np.random.choice(np.arange(4), p=action_prob.detach().to(\"cpu\").numpy())\n",
    "    obs, reward, done, _ = gr.step(action)\n",
    "    images.append(gr.render(pixel_size=20, with_history=True))\n",
    "\n",
    "\n",
    "display.display(Image.fromarray(stack_images(images, border_thickness=3, border_color=[255, 255, 255])))"
   ]
  },
  {
   "cell_type": "code",
   "execution_count": null,
   "metadata": {},
   "outputs": [],
   "source": []
  }
 ],
 "metadata": {
  "kernelspec": {
   "display_name": ".venv",
   "language": "python",
   "name": "python3"
  },
  "language_info": {
   "codemirror_mode": {
    "name": "ipython",
    "version": 3
   },
   "file_extension": ".py",
   "mimetype": "text/x-python",
   "name": "python",
   "nbconvert_exporter": "python",
   "pygments_lexer": "ipython3",
   "version": "3.12.4"
  }
 },
 "nbformat": 4,
 "nbformat_minor": 2
}
